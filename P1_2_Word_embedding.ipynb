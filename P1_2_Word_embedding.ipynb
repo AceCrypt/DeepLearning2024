{
  "cells": [
    {
      "cell_type": "markdown",
      "metadata": {
        "id": "view-in-github",
        "colab_type": "text"
      },
      "source": [
        "<a href=\"https://colab.research.google.com/github/AceCrypt/DeepLearning2024/blob/main/P1_2_Word_embedding.ipynb\" target=\"_parent\"><img src=\"https://colab.research.google.com/assets/colab-badge.svg\" alt=\"Open In Colab\"/></a>"
      ]
    },
    {
      "cell_type": "code",
      "execution_count": null,
      "metadata": {
        "id": "dJr6nym5NRza"
      },
      "outputs": [],
      "source": [
        "%matplotlib inline"
      ]
    },
    {
      "cell_type": "markdown",
      "metadata": {
        "id": "qz4bhi0qNRzf"
      },
      "source": [
        "# Practical Overview\n",
        "\n",
        " In this Practical you will learn :\n",
        "- Basic concepts of word embeddings.\n",
        "- How to extract word embeddings by N-Gram in a toy example.\n",
        "- How to extract word embeddings by CBoW in a toy example.\n",
        "- How to extract word embeddings by CBoW in `Alice in Wonderland`.\n",
        "- How to perform the analogy task.\n",
        "- Reflecting on the conceptual differences between the CBoW and N-Gram model.\n",
        "\n",
        "We recommend running the practicals of this course in Google Colab. Make sure to go to additional connection options (the small arrow at the top right) -> change runtime type -> a GPU runtime to make use of GPU acceleration."
      ]
    },
    {
      "cell_type": "markdown",
      "metadata": {
        "id": "xJ4nnAY4jR4R"
      },
      "source": [
        "\n",
        "# Word Embeddings: Encoding Lexical Semantics\n",
        "\n",
        "\n",
        "Word embeddings are dense vectors of real numbers, one per word in your\n",
        "vocabulary. In NLP, it is almost always the case that your features are\n",
        "words! But how should you represent a word in a computer? You could\n",
        "store its ascii character representation, but that only tells you what\n",
        "the word *is*, it doesn't say much about what it *means* (you might be\n",
        "able to derive its part of speech from its affixes, or properties from\n",
        "its capitalization, but not much). Even more, in what sense could you\n",
        "combine these representations? We often want dense outputs from our\n",
        "neural networks, where the inputs are $|V|$ dimensional, where\n",
        "$V$ is our vocabulary, but often the outputs are only a few\n",
        "dimensional (if we are only predicting a handful of labels, for\n",
        "instance). How do we get from a massive dimensional space to a smaller\n",
        "dimensional space?\n",
        "\n",
        "How about instead of ascii representations, we use a one-hot encoding?\n",
        "That is, we represent the word $w$ by\n",
        "$$\n",
        "\\begin{align}\n",
        "\\overbrace{\\left[ 0, 0, \\dots, 1, \\dots, 0, 0 \\right]}^\\text{|V| elements}\n",
        "\\end{align}\n",
        "$$\n",
        "\n",
        "where the 1 is in a location unique to $w$. Any other word will\n",
        "have a 1 in some other location, and a 0 everywhere else.\n",
        "\n",
        "There is an enormous drawback to this representation, besides just how\n",
        "huge it is. It basically treats all words as independent entities with\n",
        "no relation to each other. What we really want is some notion of\n",
        "*similarity* between words. Why? Let's see an example.\n",
        "\n",
        "Suppose we are building a language model. Suppose we have seen the\n",
        "sentences\n",
        "\n",
        "* The mathematician ran to the store.\n",
        "* The physicist ran to the store.\n",
        "* The mathematician solved the open problem.\n",
        "\n",
        "in our training data. Now suppose we get a new sentence never before\n",
        "seen in our training data:\n",
        "\n",
        "* The physicist solved the open problem.\n",
        "\n",
        "Our language model might do OK on this sentence, but wouldn't it be much\n",
        "better if we could use the following two facts:\n",
        "\n",
        "- We have seen  mathematician and physicist in the same role in a sentence. Somehow they\n",
        "  have a semantic relation.\n",
        "* We have seen mathematician in the same role  in this new unseen sentence\n",
        "  as we are now seeing physicist.\n",
        "\n",
        "and then infer that physicist is actually a good fit in the new unseen\n",
        "sentence? This is what we mean by a notion of similarity: we mean\n",
        "*semantic similarity*, not simply having similar orthographic\n",
        "representations. It is a technique to combat the sparsity of linguistic\n",
        "data, by connecting the dots between what we have seen and what we\n",
        "haven't. This example of course relies on a fundamental linguistic\n",
        "assumption: that words appearing in similar contexts are related to each\n",
        "other semantically. This is called the [distributional\n",
        "hypothesis](https://en.wikipedia.org/wiki/Distributional_semantics).\n"
      ]
    },
    {
      "cell_type": "markdown",
      "metadata": {
        "id": "e6C_ssUDNRzh"
      },
      "source": [
        "# Getting Dense Word Embeddings\n",
        "\n",
        "\n",
        "How can we solve this problem? That is, how could we actually encode\n",
        "semantic similarity in words? Maybe we think up some semantic\n",
        "attributes. For example, we see that both mathematicians and physicists\n",
        "can run, so maybe we give these words a high score for the \"is able to\n",
        "run\" semantic attribute. Think of some other attributes, and imagine\n",
        "what you might score some common words on those attributes.\n",
        "\n",
        "If each attribute is a dimension, then we might give each word a vector,\n",
        "like this:\n",
        "\n",
        "$$\n",
        "\\begin{align}\n",
        "q_\\text{mathematician} = \\left[ \\overbrace{2.3}^\\text{can run},\n",
        "   \\overbrace{9.4}^\\text{likes coffee}, \\overbrace{-5.5}^\\text{majored in Physics}, \\dots \\right]\n",
        " \\end{align}\n",
        "$$\n",
        "\n",
        "$$\n",
        "\\begin{align}\n",
        "q_\\text{physicist} = \\left[ \\overbrace{2.5}^\\text{can run},\n",
        "   \\overbrace{9.1}^\\text{likes coffee}, \\overbrace{6.4}^\\text{majored in Physics}, \\dots \\right]\n",
        "\\end{align}\n",
        "$$\n",
        "\n",
        "Then we can get a measure of similarity between these words by doing:\n",
        "\n",
        "$$\n",
        "\\begin{align}\n",
        "\\text{Similarity}(\\text{physicist}, \\text{mathematician}) = q_\\text{physicist} \\cdot q_\\text{mathematician}\n",
        "\\end{align}\n",
        "$$\n",
        "\n",
        "\n",
        "Although it is more common to normalize by the lengths:\n",
        "\n",
        "\\begin{align}\\text{Similarity}(\\text{physicist}, \\text{mathematician}) = \\frac{q_\\text{physicist} \\cdot q_\\text{mathematician}}\n",
        "   {\\| q_\\text{physicist} \\| \\| q_\\text{mathematician} \\|} = \\cos (\\phi)\\end{align}\n",
        "\n",
        "Where $\\phi$ is the angle between the two vectors. That way,\n",
        "extremely similar words (words whose embeddings point in the same\n",
        "direction) will have similarity 1. Extremely dissimilar words should\n",
        "have similarity -1.\n",
        "\n",
        "\n",
        "\n",
        "You can think of the sparse one-hot vectors from the beginning of this\n",
        "section as a special case of these new vectors we have defined, where\n",
        "each word basically has similarity 0, and we gave each word some unique\n",
        "semantic attribute. These new vectors are *dense*, which is to say their\n",
        "entries are (typically) non-zero.\n",
        "\n",
        "But these new vectors are a big pain: you could think of thousands of\n",
        "different semantic attributes that might be relevant to determining\n",
        "similarity, and how on earth would you set the values of the different\n",
        "attributes? Central to the idea of deep learning is that the neural\n",
        "network learns representations of the features, rather than requiring\n",
        "the programmer to design them herself. So why not just let the word\n",
        "embeddings be parameters in our model, and then be updated during\n",
        "training? This is exactly what we will do. We will have some *latent\n",
        "semantic attributes* that the network can, in principle, learn. Note\n",
        "that the word embeddings will probably not be interpretable. That is,\n",
        "although with our hand-crafted vectors above we can see that\n",
        "mathematicians and physicists are similar in that they both like coffee,\n",
        "if we allow a neural network to learn the embeddings and see that both\n",
        "mathematicians and physicists have a large value in the second\n",
        "dimension, it is not clear what that means. They are similar in some\n",
        "latent semantic dimension, but this probably has no interpretation to\n",
        "us.\n",
        "\n",
        "\n",
        "In summary, **word embeddings are a representation of the *semantics* of\n",
        "a word, efficiently encoding semantic information that might be relevant\n",
        "to the task at hand**. You can embed other things too: part of speech\n",
        "tags, parse trees, anything! The idea of feature embeddings is central\n",
        "to the field.\n"
      ]
    },
    {
      "cell_type": "markdown",
      "metadata": {
        "id": "h4vYxKlGNRzi"
      },
      "source": [
        "# Word Embeddings in Pytorch\n",
        "\n",
        "\n",
        "Before we get to a worked example and an exercise, a few quick notes\n",
        "about how to use embeddings in Pytorch and in deep learning programming\n",
        "in general. Similar to how we defined a unique index for each word when\n",
        "making one-hot vectors, we also need to define an index for each word\n",
        "when using embeddings. These will be keys into a lookup table. That is,\n",
        "embeddings are stored as a $|V| \\times D$ matrix, where $D$\n",
        "is the dimensionality of the embeddings, such that the word assigned\n",
        "index $i$ has its embedding stored in the $i$'th row of the\n",
        "matrix. In all of code, the mapping from words to indices is a\n",
        "dictionary named word\\_to\\_ix.\n",
        "\n",
        "The module that allows you to use embeddings is torch.nn.Embedding,\n",
        "which takes two arguments: the vocabulary size, and the dimensionality\n",
        "of the embeddings.\n",
        "\n",
        "To index into this table, you must use torch.LongTensor (since the\n",
        "indices are integers, not floats).\n",
        "\n"
      ]
    },
    {
      "cell_type": "code",
      "execution_count": null,
      "metadata": {
        "id": "SN-aYyHOjR4S"
      },
      "outputs": [],
      "source": [
        "# The first part of this practical is based on the tutorial by Robert Guthrie, which can be found here:\n",
        "# https://pytorch.org/tutorials/beginner/nlp/word_embeddings_tutorial.html\n",
        "\n",
        "import torch\n",
        "import torch.nn as nn\n",
        "import torch.nn.functional as F\n",
        "import torch.optim as optim\n",
        "import numpy as np\n",
        "torch.manual_seed(1)\n",
        "import math"
      ]
    },
    {
      "cell_type": "code",
      "execution_count": null,
      "metadata": {
        "id": "Ki4s4m9IjR4T",
        "outputId": "ba564927-a461-4641-bba0-e9617a2964b5",
        "colab": {
          "base_uri": "https://localhost:8080/"
        }
      },
      "outputs": [
        {
          "output_type": "stream",
          "name": "stdout",
          "text": [
            "tensor([[ 0.6614,  0.2669,  0.0617,  0.6213, -0.4519]],\n",
            "       grad_fn=<EmbeddingBackward0>)\n"
          ]
        }
      ],
      "source": [
        "word_to_ix = {\"hello\": 0, \"world\": 1}\n",
        "embeds = nn.Embedding(2, 5)  # 2 words in vocab, 5 dimensional embeddings\n",
        "lookup_tensor = torch.tensor([word_to_ix[\"hello\"]], dtype=torch.long)\n",
        "hello_embed = embeds(lookup_tensor)\n",
        "print(hello_embed)"
      ]
    },
    {
      "cell_type": "markdown",
      "metadata": {
        "id": "uzIyUMPKjR4U"
      },
      "source": [
        "# Getting started:  N-Gram Language Modeling in a Toy example\n",
        "\n",
        "\n",
        "Recall that in an n-gram language model, given a sequence of words\n",
        "$w$, we want to compute\n",
        "\n",
        "\\begin{align}P(w_i | w_{i-1}, w_{i-2}, \\dots, w_{i-n+1} )\\end{align}\n",
        "\n",
        "Where $w_i$ is the ith word of the sequence.\n",
        "\n",
        "In this example, we will compute the loss function on some training\n",
        "examples and update the parameters with backpropagation.\n",
        "\n",
        "\n"
      ]
    },
    {
      "cell_type": "markdown",
      "metadata": {
        "id": "IgBZgOvjNRzk"
      },
      "source": [
        "##  Data Preprocessing\n",
        "\n",
        "Before we can use the data in our model, we should build a list of tuples.  Each tuple is `([ word_i-2, word_i-1 ], target word)`, we also build dictionaries to map from words to indices, i.e. word_to_ix, and map from indices to words, i.e. ix_to_word,"
      ]
    },
    {
      "cell_type": "code",
      "execution_count": null,
      "metadata": {
        "id": "DgyHfc_sNRzk",
        "outputId": "2a68ac75-cb4a-40e6-ac97-1fd3a7b2e97d",
        "colab": {
          "base_uri": "https://localhost:8080/"
        }
      },
      "outputs": [
        {
          "output_type": "stream",
          "name": "stdout",
          "text": [
            "[(['When', 'forty'], 'winters'), (['forty', 'winters'], 'shall'), (['winters', 'shall'], 'besiege')]\n"
          ]
        }
      ],
      "source": [
        "CONTEXT_SIZE = 2   # a 2-gram language model\n",
        "\n",
        "# We will use Shakespeare Sonnet 2\n",
        "test_sentence = \"\"\"When forty winters shall besiege thy brow,\n",
        "And dig deep trenches in thy beauty's field,\n",
        "Thy youth's proud livery so gazed on now,\n",
        "Will be a totter'd weed of small worth held:\n",
        "Then being asked, where all thy beauty lies,\n",
        "Where all the treasure of thy lusty days;\n",
        "To say, within thine own deep sunken eyes,\n",
        "Were an all-eating shame, and thriftless praise.\n",
        "How much more praise deserv'd thy beauty's use,\n",
        "If thou couldst answer 'This fair child of mine\n",
        "Shall sum my count, and make my old excuse,'\n",
        "Proving his beauty by succession thine!\n",
        "This were to be new made when thou art old,\n",
        "And see thy blood warm when thou feel'st it cold.\"\"\".split()\n",
        "# we should tokenize the input, but we will ignore that for now\n",
        "# build a list of tuples.  Each tuple is ([ word_i-2, word_i-1 ], target word)\n",
        "trigrams = [([test_sentence[i], test_sentence[i + 1]], test_sentence[i + 2])\n",
        "            for i in range(len(test_sentence) - 2)]\n",
        "# print the first 3, just so you can see what they look like\n",
        "print(trigrams[:3])\n",
        "\n",
        "\n",
        "vocab = set(test_sentence)\n",
        "word_to_ix = {word: i for i, word in enumerate(vocab)}\n",
        "ix_to_word = {ix:word for ix, word in enumerate(vocab)}\n"
      ]
    },
    {
      "cell_type": "markdown",
      "metadata": {
        "id": "AHMGFniiNRzl"
      },
      "source": [
        "## Create N-Gram model\n",
        "We create N-Gram language model, and set the word embedding size to be 100 (or other by your preference)"
      ]
    },
    {
      "cell_type": "code",
      "execution_count": null,
      "metadata": {
        "id": "cAWWomBFjR4V",
        "scrolled": true,
        "outputId": "cc21ce39-dd93-4e35-f5c1-34a56bc5c0e6",
        "colab": {
          "base_uri": "https://localhost:8080/"
        }
      },
      "outputs": [
        {
          "output_type": "stream",
          "name": "stdout",
          "text": [
            "Epoch: 0 \tLoss: 4.641260467799364\n",
            "Epoch: 1 \tLoss: 4.5907156994912475\n",
            "Epoch: 2 \tLoss: 4.540745602244824\n",
            "Epoch: 3 \tLoss: 4.491207095374048\n",
            "Epoch: 4 \tLoss: 4.442090863675142\n",
            "Epoch: 5 \tLoss: 4.393403660934584\n",
            "Epoch: 6 \tLoss: 4.345021102280743\n",
            "Epoch: 7 \tLoss: 4.297040960430044\n",
            "Epoch: 8 \tLoss: 4.249292844164688\n",
            "Epoch: 9 \tLoss: 4.201917260094026\n",
            "Epoch: 10 \tLoss: 4.154537074333798\n",
            "Epoch: 11 \tLoss: 4.107292510766898\n",
            "Epoch: 12 \tLoss: 4.060018929760013\n",
            "Epoch: 13 \tLoss: 4.012804841573259\n",
            "Epoch: 14 \tLoss: 3.965405445183273\n",
            "Epoch: 15 \tLoss: 3.9179455432216677\n",
            "Epoch: 16 \tLoss: 3.87028617352511\n",
            "Epoch: 17 \tLoss: 3.8224562817970207\n",
            "Epoch: 18 \tLoss: 3.774240500104111\n",
            "Epoch: 19 \tLoss: 3.7257061447717446\n",
            "Epoch: 20 \tLoss: 3.676706132635606\n",
            "Epoch: 21 \tLoss: 3.627350640507926\n",
            "Epoch: 22 \tLoss: 3.5775106586186234\n",
            "Epoch: 23 \tLoss: 3.527323859982786\n",
            "Epoch: 24 \tLoss: 3.4766558229395774\n",
            "Epoch: 25 \tLoss: 3.4254990868863806\n",
            "Epoch: 26 \tLoss: 3.374075625850036\n",
            "Epoch: 27 \tLoss: 3.3222110967720506\n",
            "Epoch: 28 \tLoss: 3.26988572778955\n",
            "Epoch: 29 \tLoss: 3.217257585145731\n",
            "Epoch: 30 \tLoss: 3.1642484918104863\n",
            "Epoch: 31 \tLoss: 3.1110189572899745\n",
            "Epoch: 32 \tLoss: 3.0572780935110244\n",
            "Epoch: 33 \tLoss: 3.0033802384823822\n",
            "Epoch: 34 \tLoss: 2.9492181270523408\n",
            "Epoch: 35 \tLoss: 2.8946846370148447\n",
            "Epoch: 36 \tLoss: 2.8400774371307507\n",
            "Epoch: 37 \tLoss: 2.7850491784315192\n",
            "Epoch: 38 \tLoss: 2.72984106456284\n",
            "Epoch: 39 \tLoss: 2.6743701205844372\n",
            "Epoch: 40 \tLoss: 2.6185743407865543\n",
            "Epoch: 41 \tLoss: 2.562756253554758\n",
            "Epoch: 42 \tLoss: 2.506707185665063\n",
            "Epoch: 43 \tLoss: 2.450521275005509\n",
            "Epoch: 44 \tLoss: 2.3941604669115186\n",
            "Epoch: 45 \tLoss: 2.3378311952130986\n",
            "Epoch: 46 \tLoss: 2.281387997675786\n",
            "Epoch: 47 \tLoss: 2.2249304164299923\n",
            "Epoch: 48 \tLoss: 2.1684984034669084\n",
            "Epoch: 49 \tLoss: 2.112205139567367\n",
            "Epoch: 50 \tLoss: 2.056088044316368\n",
            "Epoch: 51 \tLoss: 2.0001172375890004\n",
            "Epoch: 52 \tLoss: 1.944460926330195\n",
            "Epoch: 53 \tLoss: 1.8891480831445846\n",
            "Epoch: 54 \tLoss: 1.8341949120559524\n",
            "Epoch: 55 \tLoss: 1.7797649655721883\n",
            "Epoch: 56 \tLoss: 1.7258572676013002\n",
            "Epoch: 57 \tLoss: 1.672556817004111\n",
            "Epoch: 58 \tLoss: 1.619837055955313\n",
            "Epoch: 59 \tLoss: 1.5679642993264493\n",
            "Epoch: 60 \tLoss: 1.5166982749922087\n",
            "Epoch: 61 \tLoss: 1.4662744508380383\n",
            "Epoch: 62 \tLoss: 1.4167672329771834\n",
            "Epoch: 63 \tLoss: 1.3680151425367963\n",
            "Epoch: 64 \tLoss: 1.3203934710637657\n",
            "Epoch: 65 \tLoss: 1.273596747786598\n",
            "Epoch: 66 \tLoss: 1.227911063527639\n",
            "Epoch: 67 \tLoss: 1.183292666763331\n",
            "Epoch: 68 \tLoss: 1.139819671490551\n",
            "Epoch: 69 \tLoss: 1.0974364292568866\n",
            "Epoch: 70 \tLoss: 1.0562170128115511\n",
            "Epoch: 71 \tLoss: 1.0162310021377243\n",
            "Epoch: 72 \tLoss: 0.9774518465310071\n",
            "Epoch: 73 \tLoss: 0.9399329082364529\n",
            "Epoch: 74 \tLoss: 0.9035568894010729\n",
            "Epoch: 75 \tLoss: 0.8684859377356757\n",
            "Epoch: 76 \tLoss: 0.8346789409365274\n",
            "Epoch: 77 \tLoss: 0.8020543882013422\n",
            "Epoch: 78 \tLoss: 0.7706910986288459\n",
            "Epoch: 79 \tLoss: 0.7405925494643439\n",
            "Epoch: 80 \tLoss: 0.7116773687632738\n",
            "Epoch: 81 \tLoss: 0.6839828414727102\n",
            "Epoch: 82 \tLoss: 0.6574284696737221\n",
            "Epoch: 83 \tLoss: 0.6321316232195998\n",
            "Epoch: 84 \tLoss: 0.6078051211955273\n",
            "Epoch: 85 \tLoss: 0.5846493556040578\n",
            "Epoch: 86 \tLoss: 0.562540790346344\n",
            "Epoch: 87 \tLoss: 0.5414661186195053\n",
            "Epoch: 88 \tLoss: 0.5213552402184073\n",
            "Epoch: 89 \tLoss: 0.50218458664892\n",
            "Epoch: 90 \tLoss: 0.4839446656076254\n",
            "Epoch: 91 \tLoss: 0.4665985152257227\n",
            "Epoch: 92 \tLoss: 0.450044198439712\n",
            "Epoch: 93 \tLoss: 0.4343598484992981\n",
            "Epoch: 94 \tLoss: 0.419367293934379\n",
            "Epoch: 95 \tLoss: 0.4051365807520605\n",
            "Epoch: 96 \tLoss: 0.39163075657808677\n",
            "Epoch: 97 \tLoss: 0.378742422414037\n",
            "Epoch: 98 \tLoss: 0.3665139835360831\n",
            "Epoch: 99 \tLoss: 0.3548481823068804\n"
          ]
        }
      ],
      "source": [
        "EMBEDDING_DIM = 100\n",
        "\n",
        "class NGramLanguageModeler(nn.Module):\n",
        "\n",
        "    def __init__(self, vocab_size, embedding_dim, context_size):\n",
        "        super(NGramLanguageModeler, self).__init__()\n",
        "        self.embeddings = nn.Embedding(vocab_size, embedding_dim)\n",
        "        self.linear1 = nn.Linear(context_size * embedding_dim, 128)\n",
        "        self.linear2 = nn.Linear(128, vocab_size)\n",
        "\n",
        "    def forward(self, inputs):\n",
        "        embeds = self.embeddings(inputs).view((1, -1))\n",
        "        out = F.relu(self.linear1(embeds))\n",
        "        out = self.linear2(out)\n",
        "        log_probs = F.log_softmax(out, dim=1)\n",
        "        return log_probs\n",
        "\n",
        "\n",
        "\n",
        "loss_function = nn.NLLLoss()\n",
        "model = NGramLanguageModeler(len(vocab), EMBEDDING_DIM, CONTEXT_SIZE)\n",
        "optimizer = optim.SGD(model.parameters(), lr=0.001)\n",
        "\n",
        "for epoch in range(100):\n",
        "    total_loss = 0\n",
        "    for context, target in trigrams:\n",
        "\n",
        "        # Step 1. Prepare the inputs to be passed to the model (i.e, turn the words\n",
        "        # into integer indices and wrap them in tensors)\n",
        "        context_idxs = torch.tensor([word_to_ix[w] for w in context], dtype=torch.long)\n",
        "\n",
        "        # Step 2. Recall that torch *accumulates* gradients. Before passing in a\n",
        "        # new instance, you need to zero out the gradients from the old\n",
        "        # instance\n",
        "        model.zero_grad()\n",
        "\n",
        "        # Step 3. Run the forward pass, getting log probabilities over next\n",
        "        # words\n",
        "        log_probs = model(context_idxs)\n",
        "\n",
        "        # Step 4. Compute your loss function. (Again, Torch wants the target\n",
        "        # word wrapped in a tensor)\n",
        "        loss = loss_function(log_probs, torch.tensor([word_to_ix[target]], dtype=torch.long))\n",
        "\n",
        "        # Step 5. Do the backward pass and update the gradient\n",
        "        loss.backward()\n",
        "        optimizer.step()\n",
        "\n",
        "        # Get the Python number from a 1-element Tensor by calling tensor.item()\n",
        "        total_loss += loss.item()\n",
        "    average_loss= total_loss/len(trigrams)\n",
        "    print('Epoch:', epoch, '\\tLoss:', average_loss)  # The loss decreased every iteration over the training data!"
      ]
    },
    {
      "cell_type": "markdown",
      "metadata": {
        "id": "6U1epihZNRzm"
      },
      "source": [
        "##  Check the results"
      ]
    },
    {
      "cell_type": "markdown",
      "metadata": {
        "id": "6fEsJX7jNRzm"
      },
      "source": [
        "We can inspect some of the word embedding values in a pandas DataFrame:"
      ]
    },
    {
      "cell_type": "code",
      "execution_count": null,
      "metadata": {
        "scrolled": true,
        "id": "MNoXUaJ2NRzm",
        "outputId": "5a11c333-8e09-4081-96ae-4ecad0efcced",
        "colab": {
          "base_uri": "https://localhost:8080/",
          "height": 236
        }
      },
      "outputs": [
        {
          "output_type": "execute_result",
          "data": {
            "text/plain": [
              "                0         1         2         3         4         5   \\\n",
              "eyes,     0.869846  0.246898 -0.665591  0.811831  0.439978  1.172754   \n",
              "Then      0.157858  1.259152  1.329458 -0.495575 -1.983887  1.801346   \n",
              "weed      0.220195 -0.575108  1.460629  1.775063 -2.017235  0.427039   \n",
              "trenches  0.142457  0.200899  1.053200  0.134073  1.401026  0.486693   \n",
              "couldst  -0.375315 -2.413437 -1.279116 -0.060200 -1.231520 -1.070240   \n",
              "\n",
              "                6         7         8         9   ...        90        91  \\\n",
              "eyes,     1.769700 -0.093028  0.059049 -0.615362  ... -1.481830 -1.135393   \n",
              "Then      0.101542  0.341195 -0.645545 -0.286292  ... -1.105026 -0.698176   \n",
              "weed      0.569534 -1.799234  1.246249  1.275550  ...  0.248614 -0.386056   \n",
              "trenches -0.702922 -0.828734  0.103996  0.196934  ...  0.341749 -0.553358   \n",
              "couldst  -0.386099  0.383253 -0.207543  0.694856  ...  0.291267 -0.565179   \n",
              "\n",
              "                92        93        94        95        96        97  \\\n",
              "eyes,    -0.101759  0.342223 -1.073328 -0.873303  0.200812  0.305042   \n",
              "Then      0.234738  1.914701  1.838580  1.328517 -0.073409  0.345514   \n",
              "weed     -0.198033 -0.839147 -1.555393 -0.059364  1.197821 -2.287584   \n",
              "trenches -0.960593  0.280819 -0.683470 -0.545646  1.156168 -0.398122   \n",
              "couldst   0.722676 -0.547543 -0.803200  0.019297 -0.146433  0.523974   \n",
              "\n",
              "                98        99  \n",
              "eyes,     0.539226 -0.432981  \n",
              "Then     -0.657587  1.557464  \n",
              "weed     -1.015005 -0.892721  \n",
              "trenches  0.972573  1.549299  \n",
              "couldst  -0.213010 -1.257629  \n",
              "\n",
              "[5 rows x 100 columns]"
            ],
            "text/html": [
              "\n",
              "  <div id=\"df-b351036c-015c-45fe-b3bc-9b3e3c318d9e\" class=\"colab-df-container\">\n",
              "    <div>\n",
              "<style scoped>\n",
              "    .dataframe tbody tr th:only-of-type {\n",
              "        vertical-align: middle;\n",
              "    }\n",
              "\n",
              "    .dataframe tbody tr th {\n",
              "        vertical-align: top;\n",
              "    }\n",
              "\n",
              "    .dataframe thead th {\n",
              "        text-align: right;\n",
              "    }\n",
              "</style>\n",
              "<table border=\"1\" class=\"dataframe\">\n",
              "  <thead>\n",
              "    <tr style=\"text-align: right;\">\n",
              "      <th></th>\n",
              "      <th>0</th>\n",
              "      <th>1</th>\n",
              "      <th>2</th>\n",
              "      <th>3</th>\n",
              "      <th>4</th>\n",
              "      <th>5</th>\n",
              "      <th>6</th>\n",
              "      <th>7</th>\n",
              "      <th>8</th>\n",
              "      <th>9</th>\n",
              "      <th>...</th>\n",
              "      <th>90</th>\n",
              "      <th>91</th>\n",
              "      <th>92</th>\n",
              "      <th>93</th>\n",
              "      <th>94</th>\n",
              "      <th>95</th>\n",
              "      <th>96</th>\n",
              "      <th>97</th>\n",
              "      <th>98</th>\n",
              "      <th>99</th>\n",
              "    </tr>\n",
              "  </thead>\n",
              "  <tbody>\n",
              "    <tr>\n",
              "      <th>eyes,</th>\n",
              "      <td>0.869846</td>\n",
              "      <td>0.246898</td>\n",
              "      <td>-0.665591</td>\n",
              "      <td>0.811831</td>\n",
              "      <td>0.439978</td>\n",
              "      <td>1.172754</td>\n",
              "      <td>1.769700</td>\n",
              "      <td>-0.093028</td>\n",
              "      <td>0.059049</td>\n",
              "      <td>-0.615362</td>\n",
              "      <td>...</td>\n",
              "      <td>-1.481830</td>\n",
              "      <td>-1.135393</td>\n",
              "      <td>-0.101759</td>\n",
              "      <td>0.342223</td>\n",
              "      <td>-1.073328</td>\n",
              "      <td>-0.873303</td>\n",
              "      <td>0.200812</td>\n",
              "      <td>0.305042</td>\n",
              "      <td>0.539226</td>\n",
              "      <td>-0.432981</td>\n",
              "    </tr>\n",
              "    <tr>\n",
              "      <th>Then</th>\n",
              "      <td>0.157858</td>\n",
              "      <td>1.259152</td>\n",
              "      <td>1.329458</td>\n",
              "      <td>-0.495575</td>\n",
              "      <td>-1.983887</td>\n",
              "      <td>1.801346</td>\n",
              "      <td>0.101542</td>\n",
              "      <td>0.341195</td>\n",
              "      <td>-0.645545</td>\n",
              "      <td>-0.286292</td>\n",
              "      <td>...</td>\n",
              "      <td>-1.105026</td>\n",
              "      <td>-0.698176</td>\n",
              "      <td>0.234738</td>\n",
              "      <td>1.914701</td>\n",
              "      <td>1.838580</td>\n",
              "      <td>1.328517</td>\n",
              "      <td>-0.073409</td>\n",
              "      <td>0.345514</td>\n",
              "      <td>-0.657587</td>\n",
              "      <td>1.557464</td>\n",
              "    </tr>\n",
              "    <tr>\n",
              "      <th>weed</th>\n",
              "      <td>0.220195</td>\n",
              "      <td>-0.575108</td>\n",
              "      <td>1.460629</td>\n",
              "      <td>1.775063</td>\n",
              "      <td>-2.017235</td>\n",
              "      <td>0.427039</td>\n",
              "      <td>0.569534</td>\n",
              "      <td>-1.799234</td>\n",
              "      <td>1.246249</td>\n",
              "      <td>1.275550</td>\n",
              "      <td>...</td>\n",
              "      <td>0.248614</td>\n",
              "      <td>-0.386056</td>\n",
              "      <td>-0.198033</td>\n",
              "      <td>-0.839147</td>\n",
              "      <td>-1.555393</td>\n",
              "      <td>-0.059364</td>\n",
              "      <td>1.197821</td>\n",
              "      <td>-2.287584</td>\n",
              "      <td>-1.015005</td>\n",
              "      <td>-0.892721</td>\n",
              "    </tr>\n",
              "    <tr>\n",
              "      <th>trenches</th>\n",
              "      <td>0.142457</td>\n",
              "      <td>0.200899</td>\n",
              "      <td>1.053200</td>\n",
              "      <td>0.134073</td>\n",
              "      <td>1.401026</td>\n",
              "      <td>0.486693</td>\n",
              "      <td>-0.702922</td>\n",
              "      <td>-0.828734</td>\n",
              "      <td>0.103996</td>\n",
              "      <td>0.196934</td>\n",
              "      <td>...</td>\n",
              "      <td>0.341749</td>\n",
              "      <td>-0.553358</td>\n",
              "      <td>-0.960593</td>\n",
              "      <td>0.280819</td>\n",
              "      <td>-0.683470</td>\n",
              "      <td>-0.545646</td>\n",
              "      <td>1.156168</td>\n",
              "      <td>-0.398122</td>\n",
              "      <td>0.972573</td>\n",
              "      <td>1.549299</td>\n",
              "    </tr>\n",
              "    <tr>\n",
              "      <th>couldst</th>\n",
              "      <td>-0.375315</td>\n",
              "      <td>-2.413437</td>\n",
              "      <td>-1.279116</td>\n",
              "      <td>-0.060200</td>\n",
              "      <td>-1.231520</td>\n",
              "      <td>-1.070240</td>\n",
              "      <td>-0.386099</td>\n",
              "      <td>0.383253</td>\n",
              "      <td>-0.207543</td>\n",
              "      <td>0.694856</td>\n",
              "      <td>...</td>\n",
              "      <td>0.291267</td>\n",
              "      <td>-0.565179</td>\n",
              "      <td>0.722676</td>\n",
              "      <td>-0.547543</td>\n",
              "      <td>-0.803200</td>\n",
              "      <td>0.019297</td>\n",
              "      <td>-0.146433</td>\n",
              "      <td>0.523974</td>\n",
              "      <td>-0.213010</td>\n",
              "      <td>-1.257629</td>\n",
              "    </tr>\n",
              "  </tbody>\n",
              "</table>\n",
              "<p>5 rows × 100 columns</p>\n",
              "</div>\n",
              "    <div class=\"colab-df-buttons\">\n",
              "\n",
              "  <div class=\"colab-df-container\">\n",
              "    <button class=\"colab-df-convert\" onclick=\"convertToInteractive('df-b351036c-015c-45fe-b3bc-9b3e3c318d9e')\"\n",
              "            title=\"Convert this dataframe to an interactive table.\"\n",
              "            style=\"display:none;\">\n",
              "\n",
              "  <svg xmlns=\"http://www.w3.org/2000/svg\" height=\"24px\" viewBox=\"0 -960 960 960\">\n",
              "    <path d=\"M120-120v-720h720v720H120Zm60-500h600v-160H180v160Zm220 220h160v-160H400v160Zm0 220h160v-160H400v160ZM180-400h160v-160H180v160Zm440 0h160v-160H620v160ZM180-180h160v-160H180v160Zm440 0h160v-160H620v160Z\"/>\n",
              "  </svg>\n",
              "    </button>\n",
              "\n",
              "  <style>\n",
              "    .colab-df-container {\n",
              "      display:flex;\n",
              "      gap: 12px;\n",
              "    }\n",
              "\n",
              "    .colab-df-convert {\n",
              "      background-color: #E8F0FE;\n",
              "      border: none;\n",
              "      border-radius: 50%;\n",
              "      cursor: pointer;\n",
              "      display: none;\n",
              "      fill: #1967D2;\n",
              "      height: 32px;\n",
              "      padding: 0 0 0 0;\n",
              "      width: 32px;\n",
              "    }\n",
              "\n",
              "    .colab-df-convert:hover {\n",
              "      background-color: #E2EBFA;\n",
              "      box-shadow: 0px 1px 2px rgba(60, 64, 67, 0.3), 0px 1px 3px 1px rgba(60, 64, 67, 0.15);\n",
              "      fill: #174EA6;\n",
              "    }\n",
              "\n",
              "    .colab-df-buttons div {\n",
              "      margin-bottom: 4px;\n",
              "    }\n",
              "\n",
              "    [theme=dark] .colab-df-convert {\n",
              "      background-color: #3B4455;\n",
              "      fill: #D2E3FC;\n",
              "    }\n",
              "\n",
              "    [theme=dark] .colab-df-convert:hover {\n",
              "      background-color: #434B5C;\n",
              "      box-shadow: 0px 1px 3px 1px rgba(0, 0, 0, 0.15);\n",
              "      filter: drop-shadow(0px 1px 2px rgba(0, 0, 0, 0.3));\n",
              "      fill: #FFFFFF;\n",
              "    }\n",
              "  </style>\n",
              "\n",
              "    <script>\n",
              "      const buttonEl =\n",
              "        document.querySelector('#df-b351036c-015c-45fe-b3bc-9b3e3c318d9e button.colab-df-convert');\n",
              "      buttonEl.style.display =\n",
              "        google.colab.kernel.accessAllowed ? 'block' : 'none';\n",
              "\n",
              "      async function convertToInteractive(key) {\n",
              "        const element = document.querySelector('#df-b351036c-015c-45fe-b3bc-9b3e3c318d9e');\n",
              "        const dataTable =\n",
              "          await google.colab.kernel.invokeFunction('convertToInteractive',\n",
              "                                                    [key], {});\n",
              "        if (!dataTable) return;\n",
              "\n",
              "        const docLinkHtml = 'Like what you see? Visit the ' +\n",
              "          '<a target=\"_blank\" href=https://colab.research.google.com/notebooks/data_table.ipynb>data table notebook</a>'\n",
              "          + ' to learn more about interactive tables.';\n",
              "        element.innerHTML = '';\n",
              "        dataTable['output_type'] = 'display_data';\n",
              "        await google.colab.output.renderOutput(dataTable, element);\n",
              "        const docLink = document.createElement('div');\n",
              "        docLink.innerHTML = docLinkHtml;\n",
              "        element.appendChild(docLink);\n",
              "      }\n",
              "    </script>\n",
              "  </div>\n",
              "\n",
              "\n",
              "<div id=\"df-94a2a683-b16d-422e-985d-03f0ababe869\">\n",
              "  <button class=\"colab-df-quickchart\" onclick=\"quickchart('df-94a2a683-b16d-422e-985d-03f0ababe869')\"\n",
              "            title=\"Suggest charts\"\n",
              "            style=\"display:none;\">\n",
              "\n",
              "<svg xmlns=\"http://www.w3.org/2000/svg\" height=\"24px\"viewBox=\"0 0 24 24\"\n",
              "     width=\"24px\">\n",
              "    <g>\n",
              "        <path d=\"M19 3H5c-1.1 0-2 .9-2 2v14c0 1.1.9 2 2 2h14c1.1 0 2-.9 2-2V5c0-1.1-.9-2-2-2zM9 17H7v-7h2v7zm4 0h-2V7h2v10zm4 0h-2v-4h2v4z\"/>\n",
              "    </g>\n",
              "</svg>\n",
              "  </button>\n",
              "\n",
              "<style>\n",
              "  .colab-df-quickchart {\n",
              "      --bg-color: #E8F0FE;\n",
              "      --fill-color: #1967D2;\n",
              "      --hover-bg-color: #E2EBFA;\n",
              "      --hover-fill-color: #174EA6;\n",
              "      --disabled-fill-color: #AAA;\n",
              "      --disabled-bg-color: #DDD;\n",
              "  }\n",
              "\n",
              "  [theme=dark] .colab-df-quickchart {\n",
              "      --bg-color: #3B4455;\n",
              "      --fill-color: #D2E3FC;\n",
              "      --hover-bg-color: #434B5C;\n",
              "      --hover-fill-color: #FFFFFF;\n",
              "      --disabled-bg-color: #3B4455;\n",
              "      --disabled-fill-color: #666;\n",
              "  }\n",
              "\n",
              "  .colab-df-quickchart {\n",
              "    background-color: var(--bg-color);\n",
              "    border: none;\n",
              "    border-radius: 50%;\n",
              "    cursor: pointer;\n",
              "    display: none;\n",
              "    fill: var(--fill-color);\n",
              "    height: 32px;\n",
              "    padding: 0;\n",
              "    width: 32px;\n",
              "  }\n",
              "\n",
              "  .colab-df-quickchart:hover {\n",
              "    background-color: var(--hover-bg-color);\n",
              "    box-shadow: 0 1px 2px rgba(60, 64, 67, 0.3), 0 1px 3px 1px rgba(60, 64, 67, 0.15);\n",
              "    fill: var(--button-hover-fill-color);\n",
              "  }\n",
              "\n",
              "  .colab-df-quickchart-complete:disabled,\n",
              "  .colab-df-quickchart-complete:disabled:hover {\n",
              "    background-color: var(--disabled-bg-color);\n",
              "    fill: var(--disabled-fill-color);\n",
              "    box-shadow: none;\n",
              "  }\n",
              "\n",
              "  .colab-df-spinner {\n",
              "    border: 2px solid var(--fill-color);\n",
              "    border-color: transparent;\n",
              "    border-bottom-color: var(--fill-color);\n",
              "    animation:\n",
              "      spin 1s steps(1) infinite;\n",
              "  }\n",
              "\n",
              "  @keyframes spin {\n",
              "    0% {\n",
              "      border-color: transparent;\n",
              "      border-bottom-color: var(--fill-color);\n",
              "      border-left-color: var(--fill-color);\n",
              "    }\n",
              "    20% {\n",
              "      border-color: transparent;\n",
              "      border-left-color: var(--fill-color);\n",
              "      border-top-color: var(--fill-color);\n",
              "    }\n",
              "    30% {\n",
              "      border-color: transparent;\n",
              "      border-left-color: var(--fill-color);\n",
              "      border-top-color: var(--fill-color);\n",
              "      border-right-color: var(--fill-color);\n",
              "    }\n",
              "    40% {\n",
              "      border-color: transparent;\n",
              "      border-right-color: var(--fill-color);\n",
              "      border-top-color: var(--fill-color);\n",
              "    }\n",
              "    60% {\n",
              "      border-color: transparent;\n",
              "      border-right-color: var(--fill-color);\n",
              "    }\n",
              "    80% {\n",
              "      border-color: transparent;\n",
              "      border-right-color: var(--fill-color);\n",
              "      border-bottom-color: var(--fill-color);\n",
              "    }\n",
              "    90% {\n",
              "      border-color: transparent;\n",
              "      border-bottom-color: var(--fill-color);\n",
              "    }\n",
              "  }\n",
              "</style>\n",
              "\n",
              "  <script>\n",
              "    async function quickchart(key) {\n",
              "      const quickchartButtonEl =\n",
              "        document.querySelector('#' + key + ' button');\n",
              "      quickchartButtonEl.disabled = true;  // To prevent multiple clicks.\n",
              "      quickchartButtonEl.classList.add('colab-df-spinner');\n",
              "      try {\n",
              "        const charts = await google.colab.kernel.invokeFunction(\n",
              "            'suggestCharts', [key], {});\n",
              "      } catch (error) {\n",
              "        console.error('Error during call to suggestCharts:', error);\n",
              "      }\n",
              "      quickchartButtonEl.classList.remove('colab-df-spinner');\n",
              "      quickchartButtonEl.classList.add('colab-df-quickchart-complete');\n",
              "    }\n",
              "    (() => {\n",
              "      let quickchartButtonEl =\n",
              "        document.querySelector('#df-94a2a683-b16d-422e-985d-03f0ababe869 button');\n",
              "      quickchartButtonEl.style.display =\n",
              "        google.colab.kernel.accessAllowed ? 'block' : 'none';\n",
              "    })();\n",
              "  </script>\n",
              "</div>\n",
              "    </div>\n",
              "  </div>\n"
            ],
            "application/vnd.google.colaboratory.intrinsic+json": {
              "type": "dataframe"
            }
          },
          "metadata": {},
          "execution_count": 5
        }
      ],
      "source": [
        "import pandas as pd\n",
        "embeddings = model.embeddings(torch.Tensor([list(range(0,len(vocab)))]).long())\n",
        "embeddings = embeddings.view(-1,100)\n",
        "pd.DataFrame(embeddings.tolist(), index=list(ix_to_word.values())[0:]).head()"
      ]
    },
    {
      "cell_type": "markdown",
      "metadata": {
        "id": "Dx6BmDj7NRzn"
      },
      "source": [
        "We can also plot the embeddings with TSNE to visualize the similarity"
      ]
    },
    {
      "cell_type": "code",
      "execution_count": null,
      "metadata": {
        "id": "71IqM9zxNRzn"
      },
      "outputs": [],
      "source": [
        "labels=[]\n",
        "for i in range(len(ix_to_word)):\n",
        "    labels.append(ix_to_word[i])"
      ]
    },
    {
      "cell_type": "code",
      "execution_count": null,
      "metadata": {
        "scrolled": true,
        "id": "xJEkOmBnNRzn",
        "outputId": "a3c65e25-7069-45d2-b8a6-be13b8529c55",
        "colab": {
          "base_uri": "https://localhost:8080/",
          "height": 833
        }
      },
      "outputs": [
        {
          "output_type": "display_data",
          "data": {
            "text/plain": [
              "<Figure size 1000x1000 with 1 Axes>"
            ],
            "image/png": "[encoded data removed]"
          },
          "metadata": {}
        }
      ],
      "source": [
        "from matplotlib import pylab\n",
        "from sklearn.manifold import TSNE\n",
        "\n",
        "tsne = TSNE(n_components=2)\n",
        "two_d_embeddings = tsne.fit_transform(embeddings.detach().numpy())\n",
        "\n",
        "def plot(embeddings, labels):\n",
        "      assert embeddings.shape[0] >= len(labels), 'More labels than embeddings'\n",
        "      pylab.figure(figsize=(10,10))  # in inches\n",
        "      for i, label in enumerate(labels):\n",
        "        x, y = embeddings[i,:]\n",
        "        pylab.scatter(x, y)\n",
        "        pylab.annotate(label, xy=(x, y), xytext=(5, 2), textcoords='offset points',\n",
        "                       ha='right', va='bottom')\n",
        "      pylab.show()\n",
        "\n",
        "\n",
        "plot(two_d_embeddings, labels)"
      ]
    },
    {
      "cell_type": "code",
      "execution_count": null,
      "metadata": {
        "id": "gwK96vSHNRzo",
        "outputId": "09e0dc43-233b-40a5-b89e-9bc241b31919",
        "colab": {
          "base_uri": "https://localhost:8080/"
        }
      },
      "outputs": [
        {
          "output_type": "stream",
          "name": "stdout",
          "text": [
            "Raw text: When forty winters shall besiege thy brow, And dig deep trenches in thy beauty's field, Thy youth's proud livery so gazed on now, Will be a totter'd weed of small worth held: Then being asked, where all thy beauty lies, Where all the treasure of thy lusty days; To say, within thine own deep sunken eyes, Were an all-eating shame, and thriftless praise. How much more praise deserv'd thy beauty's use, If thou couldst answer 'This fair child of mine Shall sum my count, and make my old excuse,' Proving his beauty by succession thine! This were to be new made when thou art old, And see thy blood warm when thou feel'st it cold.\n",
            "\n",
            "Context: ['and', 'dig']\n",
            "\n",
            "Prediction: my\n"
          ]
        }
      ],
      "source": [
        "context = ['and','dig']\n",
        "\n",
        "a = model(torch.tensor([word_to_ix[w] for w in context]))\n",
        "\n",
        "#Print result\n",
        "print(f'Raw text: {\" \".join(test_sentence)}\\n')\n",
        "print(f'Context: {context}\\n')\n",
        "print(f'Prediction: {ix_to_word[torch.argmax(a[0]).item()]}')"
      ]
    },
    {
      "cell_type": "markdown",
      "metadata": {
        "id": "TuCM5LSqjR4V"
      },
      "source": [
        "# Practical part  1: Computing Word Embeddings -- Continuous Bag-of-Words in a Toy example\n",
        "\n",
        "\n",
        "The Continuous Bag-of-Words model (CBOW) is frequently used in NLP deep\n",
        "learning. It is a model that tries to predict words given the context of\n",
        "a few words before and a few words after the target word. This is\n",
        "distinct from typical practices in language modeling, since CBOW is not sequential and does\n",
        "not have to be probabilistic. Typcially, CBOW is used to quickly train\n",
        "word embeddings, and these embeddings are used to initialize the\n",
        "embeddings of some more complicated model. Usually, this is referred to\n",
        "as *pretraining embeddings*. It almost always helps performance a couple\n",
        "of percent.\n",
        "\n",
        "The CBOW model is as follows. Given a target word $w_i$ and an\n",
        "$N$ context window on each side, $w_{i-1}, \\dots, w_{i-N}$\n",
        "and $w_{i+1}, \\dots, w_{i+N}$, referring to all context words\n",
        "collectively as $C$, CBOW tries to minimize\n",
        "\n",
        "\\begin{align}-\\log p(w_i | C) = -\\log \\text{Softmax}(A(\\sum_{w \\in C} q_w) + b)\\end{align}\n",
        "\n",
        "where $q_w$ is the embedding for word $w$.\n",
        "\n",
        "Implement this model in Pytorch by filling in the class below. Some\n",
        "tips:\n",
        "\n",
        "* Think about which parameters you need to define.\n",
        "* Make sure you know what shape each operation expects. Use .view() if you need to\n",
        "  reshape.\n",
        "\n"
      ]
    },
    {
      "cell_type": "markdown",
      "metadata": {
        "id": "L0kao6JQNRzo"
      },
      "source": [
        "##  Data Preprocessing\n",
        "\n",
        "The CBOW model architecture tries to predict the current target word (the center word) based on the source context words (surrounding words). Considering a simple sentence, `the quick brown fox jumps over the lazy dog`, this can be pairs of (context_window, target_word) where if we consider a context size 2 (2 words to the left, 2 to the right),  we have examples like `([the, quick, fox, jumps], brown)` and so on. Thus the model tries to predict the target_word based on the context_window words.\n",
        "\n",
        "\n",
        "Therefore should build a list of tuples.  Each tuple is `([ word_i-2, word_i-1,word_i+1, word_i+2 ], target word)`, we also build dictionaries to map from words to indices, i.e. word_to_ix, and map from indices to words, i.e. ix_to_word,"
      ]
    },
    {
      "cell_type": "code",
      "execution_count": null,
      "metadata": {
        "id": "Wgd9CoulNRzo",
        "outputId": "61682cf9-161a-4e7f-8502-e6917694eed1",
        "colab": {
          "base_uri": "https://localhost:8080/"
        }
      },
      "outputs": [
        {
          "output_type": "stream",
          "name": "stdout",
          "text": [
            "[(['We', 'are', 'to', 'study'], 'about'), (['are', 'about', 'study', 'the'], 'to'), (['about', 'to', 'the', 'idea'], 'study'), (['to', 'study', 'idea', 'of'], 'the'), (['study', 'the', 'of', 'a'], 'idea')]\n"
          ]
        }
      ],
      "source": [
        "import torch\n",
        "import torch.nn as nn\n",
        "\n",
        "\n",
        "CONTEXT_SIZE = 2  # 2 words to the left, 2 to the right\n",
        "EMBEDDING_DIM = 100\n",
        "\n",
        "raw_text = \"\"\"We are about to study the idea of a computational process.\n",
        "Computational processes are abstract beings that inhabit computers.\n",
        "As they evolve, processes manipulate other abstract things called data.\n",
        "The evolution of a process is directed by a pattern of rules\n",
        "called a program. People create programs to direct processes. In effect,\n",
        "we conjure the spirits of the computer with our spells.\"\"\".split()\n",
        "\n",
        "\n",
        "# By deriving a set from `raw_text`, we deduplicate the array\n",
        "vocab = set(raw_text)\n",
        "vocab_size = len(vocab)\n",
        "\n",
        "word_to_ix = {word:ix for ix, word in enumerate(vocab)}\n",
        "ix_to_word = {ix:word for ix, word in enumerate(vocab)}\n",
        "\n",
        "data = []\n",
        "for i in range(2, len(raw_text) - 2):\n",
        "    context = [raw_text[i - 2], raw_text[i - 1],\n",
        "               raw_text[i + 1], raw_text[i + 2]]\n",
        "    target = raw_text[i]\n",
        "    data.append((context, target))\n",
        "\n",
        "print(data[:5])"
      ]
    },
    {
      "cell_type": "markdown",
      "metadata": {
        "id": "oXKysavwNRzp"
      },
      "source": [
        "\n",
        "## Create CBoW Model\n",
        "Following is an image to illustrate the model architecture. We set the word embedding size to be 100 (or other by your preference)."
      ]
    },
    {
      "cell_type": "markdown",
      "metadata": {
        "id": "jfOUQEgHNRzp"
      },
      "source": [
        "![avatar](https://miro.medium.com/max/328/1*bkrBASpteKfCaxZDEEeN6g.png)"
      ]
    },
    {
      "cell_type": "code",
      "execution_count": null,
      "metadata": {
        "id": "c83HvD2hjR4W",
        "scrolled": true,
        "outputId": "2625df62-8c94-4fab-b15e-7f32bdcf592e",
        "colab": {
          "base_uri": "https://localhost:8080/"
        }
      },
      "outputs": [
        {
          "output_type": "stream",
          "name": "stdout",
          "text": [
            "Epoch: 0 \tLoss: -0.06887749916520612\n",
            "Epoch: 1 \tLoss: -0.5578125247667576\n",
            "Epoch: 2 \tLoss: -1.0468148906426182\n",
            "Epoch: 3 \tLoss: -1.5359295522472982\n",
            "Epoch: 4 \tLoss: -2.0252012950849942\n",
            "Epoch: 5 \tLoss: -2.5146751493729393\n",
            "Epoch: 6 \tLoss: -3.004395945318814\n",
            "Epoch: 7 \tLoss: -3.4944088469291557\n",
            "Epoch: 8 \tLoss: -3.984758767588385\n",
            "Epoch: 9 \tLoss: -4.475490828012598\n",
            "Epoch: 10 \tLoss: -4.966650264016513\n",
            "Epoch: 11 \tLoss: -5.458282057581277\n",
            "Epoch: 12 \tLoss: -5.95043198404641\n",
            "Epoch: 13 \tLoss: -6.443145024365392\n",
            "Epoch: 14 \tLoss: -6.936466878858106\n",
            "Epoch: 15 \tLoss: -7.430443106026485\n",
            "Epoch: 16 \tLoss: -7.925119367139093\n",
            "Epoch: 17 \tLoss: -8.42054149611243\n",
            "Epoch: 18 \tLoss: -8.916755339194989\n",
            "Epoch: 19 \tLoss: -9.413807293464398\n",
            "Epoch: 20 \tLoss: -9.911743336710437\n",
            "Epoch: 21 \tLoss: -10.410609861900067\n",
            "Epoch: 22 \tLoss: -10.91045331132823\n",
            "Epoch: 23 \tLoss: -11.411320398593771\n",
            "Epoch: 24 \tLoss: -11.91325804282879\n",
            "Epoch: 25 \tLoss: -12.416313352255985\n",
            "Epoch: 26 \tLoss: -12.920533435098056\n",
            "Epoch: 27 \tLoss: -13.425965785980225\n",
            "Epoch: 28 \tLoss: -13.932657718658447\n",
            "Epoch: 29 \tLoss: -14.44065735257905\n",
            "Epoch: 30 \tLoss: -14.950012535884463\n",
            "Epoch: 31 \tLoss: -15.460771889522158\n",
            "Epoch: 32 \tLoss: -15.972983639815759\n",
            "Epoch: 33 \tLoss: -16.486696637909986\n",
            "Epoch: 34 \tLoss: -17.00195988293352\n",
            "Epoch: 35 \tLoss: -17.518822226031073\n",
            "Epoch: 36 \tLoss: -18.037333932416193\n",
            "Epoch: 37 \tLoss: -18.557544494497364\n",
            "Epoch: 38 \tLoss: -19.079503470453723\n",
            "Epoch: 39 \tLoss: -19.603261914746515\n",
            "Epoch: 40 \tLoss: -20.12887014191726\n",
            "Epoch: 41 \tLoss: -20.65637920642721\n",
            "Epoch: 42 \tLoss: -21.185840886214685\n",
            "Epoch: 43 \tLoss: -21.717306005543676\n",
            "Epoch: 44 \tLoss: -22.25082721381352\n",
            "Epoch: 45 \tLoss: -22.786456519159778\n",
            "Epoch: 46 \tLoss: -23.324246735408387\n",
            "Epoch: 47 \tLoss: -23.864250775041253\n",
            "Epoch: 48 \tLoss: -24.406522323345317\n",
            "Epoch: 49 \tLoss: -24.951114292802483\n"
          ]
        }
      ],
      "source": [
        "class CBOW(torch.nn.Module):\n",
        "    def __init__(self,vocab_size,embedding_dim):\n",
        "        super(CBOW,self).__init__()\n",
        "\n",
        "        self.embeddings = nn.Embedding(vocab_size,embedding_dim)\n",
        "        self.lin1 = nn.Linear(embedding_dim,vocab_size)\n",
        "\n",
        "\n",
        "    def forward(self, inputs):\n",
        "         embeds = sum(self.embeddings(inputs)).view(1,-1)\n",
        "\n",
        "         out = self.lin1(embeds)\n",
        "         log_probs = F.log_softmax(out,dim=1)\n",
        "         return out\n",
        "\n",
        "# create your model and train.  here are some functions to help you make\n",
        "# the data ready for use by your module\n",
        "\n",
        "def make_context_vector(context, word_to_ix):\n",
        "    idxs = [word_to_ix[w] for w in context]\n",
        "    return torch.tensor(idxs, dtype=torch.long)\n",
        "\n",
        "model = CBOW(vocab_size,EMBEDDING_DIM)\n",
        "loss_function = nn.NLLLoss()\n",
        "optimizer = torch.optim.SGD(model.parameters(), lr=0.001)\n",
        "\n",
        "\n",
        "#TRAINING\n",
        "for epoch in range(50):\n",
        "    total_loss = 0\n",
        "    for context,target in data:\n",
        "      context_vector = make_context_vector(context,word_to_ix)\n",
        "      model.zero_grad()\n",
        "      log_probs = model(context_vector)\n",
        "      loss = loss_function(log_probs,torch.tensor([word_to_ix[target]],dtype=torch.long))\n",
        "      loss.backward()\n",
        "      optimizer.step()\n",
        "\n",
        "      total_loss += loss.item()\n",
        "    average_loss = total_loss/len(data)\n",
        "    print('Epoch:',epoch,'\\tLoss:',average_loss)\n"
      ]
    },
    {
      "cell_type": "markdown",
      "metadata": {
        "id": "k-I736ArNRzp"
      },
      "source": [
        "##  Check the results\n",
        "\n",
        "Then we check the results by making predictions of target work by context"
      ]
    },
    {
      "cell_type": "code",
      "execution_count": null,
      "metadata": {
        "scrolled": true,
        "id": "g21YqPP2NRzp",
        "outputId": "c85e0edb-17c8-46af-e5aa-5780a64870ff",
        "colab": {
          "base_uri": "https://localhost:8080/"
        }
      },
      "outputs": [
        {
          "output_type": "stream",
          "name": "stdout",
          "text": [
            "Raw text: We are about to study the idea of a computational process. Computational processes are abstract beings that inhabit computers. As they evolve, processes manipulate other abstract things called data. The evolution of a process is directed by a pattern of rules called a program. People create programs to direct processes. In effect, we conjure the spirits of the computer with our spells.\n",
            "\n",
            "Context: ['People', 'create', 'to', 'direct']\n",
            "\n",
            "Prediction: programs\n"
          ]
        }
      ],
      "source": [
        "context = ['People','create','to', 'direct']\n",
        "context_vector = make_context_vector(context, word_to_ix)\n",
        "a = model(context_vector)\n",
        "\n",
        "#Print result\n",
        "print(f'Raw text: {\" \".join(raw_text)}\\n')\n",
        "print(f'Context: {context}\\n')\n",
        "print(f'Prediction: {ix_to_word[torch.argmax(a[0]).item()]}')"
      ]
    },
    {
      "cell_type": "markdown",
      "metadata": {
        "id": "yc3Z1ia1NRzp"
      },
      "source": [
        "# Practical part 2: Computing Word Embeddings in  `Alice in Wonderland` using CBoW"
      ]
    },
    {
      "cell_type": "markdown",
      "metadata": {
        "id": "P1mfsWIVNRzp"
      },
      "source": [
        "Now let's try to build word embedding in a  ‘Alice in Wonderland’ instead of a toy example.  Download the word-label mapping dictionaries and corpus by this [link](https://drive.google.com/drive/folders/1mYM29PbWQ4rS0bgKndFJjZlkbcwMaEpO?usp=sharing), and upload them into your own Google drive if you're using Colab. After that, mount them to the drive folder so we can use them in Colab by using the cells below:"
      ]
    },
    {
      "cell_type": "markdown",
      "metadata": {
        "id": "qpV7oKNINRzq"
      },
      "source": [
        "##  Data Preprocessing"
      ]
    },
    {
      "cell_type": "code",
      "execution_count": null,
      "metadata": {
        "id": "l52ezQg1NRzq",
        "outputId": "851898d7-0722-4d1b-9057-0c83d2561311",
        "colab": {
          "base_uri": "https://localhost:8080/"
        }
      },
      "outputs": [
        {
          "output_type": "stream",
          "name": "stdout",
          "text": [
            "Mounted at drive\n"
          ]
        }
      ],
      "source": [
        "# use the below two cells to mount your drive if you're using Google Colab\n",
        "from google.colab import drive\n",
        "!mkdir drive\n",
        "drive.mount('drive')"
      ]
    },
    {
      "cell_type": "markdown",
      "metadata": {
        "id": "kqgu7-1TNRzq"
      },
      "source": [
        "Let's list all the data in your drive to see if we mounted successfully:"
      ]
    },
    {
      "cell_type": "code",
      "execution_count": null,
      "metadata": {
        "id": "cuwG_dS7NRzq",
        "outputId": "0531f8dc-7bca-40d0-f96a-4e2377d9fffb",
        "colab": {
          "base_uri": "https://localhost:8080/"
        }
      },
      "outputs": [
        {
          "output_type": "stream",
          "name": "stdout",
          "text": [
            " 20211208_192551.mp4\n",
            " 4HrWW.pdf\n",
            "'Anniversary 4.0.pdf'\n",
            "'Bareily Wedding'\n",
            " Billu\n",
            "'Bishti '\n",
            " CK117_TEAM_COMRADE.pdf\n",
            "'Colab Notebooks'\n",
            "'College Transcripts.pdf'\n",
            " Coonoor\n",
            "'Cover Letter.gdoc'\n",
            "'Dark Side'\n",
            " DEVANSH.jpg\n",
            "'Devansh Mishra  - Bachelor of Technology.pdf'\n",
            "'Devansh Mishra CV.pdf'\n",
            "'DLL Interview.docx'\n",
            "'EU Flex.gdoc'\n",
            "'EU US Trip.gsheet'\n",
            " Flipkart-book.pdf\n",
            " GTA_Ring.mp3\n",
            "'Health Email Draft: Devansh.gdoc'\n",
            "'Honors Motivation.gdoc'\n",
            " ICT.gdoc\n",
            " IMG_20230808_183306819.jpg\n",
            " IMG_20230808_183311805.jpg\n",
            " IMG_20230818_124750552.jpg\n",
            "'Imp Docs'\n",
            "'Internship cold outreach.gdoc'\n",
            "'Kaafi baap.gdoc'\n",
            " Kaggle\n",
            " Kota\n",
            " KVBDf.mp4\n",
            "'LG Final'\n",
            " log1.stats.tsv\n",
            "\"Master's Documents.gdoc\"\n",
            "'MLE Ass 3'\n",
            "'New Doc 03-26-2020 18.08.06.jpg'\n",
            "'NH7 Day 1'\n",
            "'NH7 Day 2'\n",
            "'Partition Performance .gsheet'\n",
            " PDP.gdoc\n",
            "'Peer Review .gdoc'\n",
            "'Philosophy Essay.gdoc'\n",
            " pics\n",
            " progit.pdf\n",
            " PXL_20230807_164507139.jpg\n",
            "'Richa Mishra.jpg'\n",
            "'Richa Mishra Resume.pdf'\n",
            " Snapchat-644458660.mp4\n",
            " TA_F5122_BH9023T05L_29-07-20201851-3638.img\n",
            "'Thinkpad Backup'\n",
            "'Thomas H. Cormen_ Charles E. Leiserson_ Ronald L. Rivest_ Clifford Stein - Introduction to Algorithms, third edition-MIT Press (2009).pdf'\n",
            "'[Untitled]_2017101120142000.pdf'\n",
            "'Untitled document (1).gdoc'\n",
            "'Untitled document (2).gdoc'\n",
            "'Untitled document (3).gdoc'\n",
            "'Untitled document (4).gdoc'\n",
            "'Untitled document.gdoc'\n",
            "'Visa support letter.gdoc'\n",
            " Wallpaper\n",
            "'Why ASML.gdoc'\n"
          ]
        }
      ],
      "source": [
        "!ls \"drive/My Drive/\""
      ]
    },
    {
      "cell_type": "code",
      "execution_count": null,
      "metadata": {
        "id": "ZPz2BIa5NRzq"
      },
      "outputs": [],
      "source": [
        "# modify the path according to your own file location\n",
        "import os\n",
        "data_path=os.path.join(\"drive/My Drive/DL2023/Word_embedding_data/\")\n",
        "# if you are not using Colab, change data_path above to where you stored the data locally\n"
      ]
    },
    {
      "cell_type": "markdown",
      "metadata": {
        "id": "vaK19ALBNRzr"
      },
      "source": [
        "Now we load the data:"
      ]
    },
    {
      "cell_type": "code",
      "execution_count": null,
      "metadata": {
        "id": "Ju7W3UuJNRzr"
      },
      "outputs": [],
      "source": [
        "import json\n",
        "with open(os.path.join(data_path,\"alice.json\"),'r') as f:\n",
        "    alice = json.load(f)\n",
        "with open(os.path.join(data_path,\"ix_to_word.json\"),'r') as f:\n",
        "    ix_to_word = json.load(f)\n",
        "with open(os.path.join(data_path,\"word_to_ix.json\"),'r') as f:\n",
        "    word_to_ix = json.load(f)"
      ]
    },
    {
      "cell_type": "markdown",
      "metadata": {
        "id": "f6ZuFhXSNRzr"
      },
      "source": [
        "Then we create the context and target pairs by borrowing some keras utilities. We set the window_size 2 (2 words to the left, 2 to the right)."
      ]
    },
    {
      "cell_type": "code",
      "execution_count": null,
      "metadata": {
        "id": "misOtRC_NRzr",
        "outputId": "e80dfae1-a7f1-4679-f9f6-db8a5d9ec0dd",
        "colab": {
          "base_uri": "https://localhost:8080/"
        }
      },
      "outputs": [
        {
          "output_type": "stream",
          "name": "stderr",
          "text": [
            "<ipython-input-14-6a3ba2bfc171>:24: UserWarning: Creating a tensor from a list of numpy.ndarrays is extremely slow. Please consider converting the list to a single numpy.ndarray with numpy.array() before converting to a tensor. (Triggered internally at ../torch/csrc/utils/tensor_new.cpp:275.)\n",
            "  X=torch.tensor(X, dtype=torch.long)\n"
          ]
        }
      ],
      "source": [
        "window_size=2\n",
        "vocab_size=len(word_to_ix)\n",
        "\n",
        "from keras.preprocessing import text\n",
        "from keras.preprocessing import sequence\n",
        "from keras.utils import pad_sequences\n",
        "\n",
        "corpus = [[word_to_ix[w] for w in text.text_to_word_sequence(doc)] for doc in alice]\n",
        "\n",
        "def generate_context_word_pairs(corpus, window_size, vocab_size):\n",
        "    X = []\n",
        "    Y = []\n",
        "    context_length = window_size*2\n",
        "    for words in corpus:\n",
        "        sentence_length = len(words)\n",
        "        for index, word in enumerate(words):\n",
        "            start = index - window_size\n",
        "            end = index + window_size + 1\n",
        "            context = [words[i] for i in range(start, end)if 0 <= i < sentence_length and i != index]\n",
        "            x = pad_sequences([context], maxlen=context_length)[0]\n",
        "            X.append(x)\n",
        "            Y.append([word])\n",
        "\n",
        "    X=torch.tensor(X, dtype=torch.long)\n",
        "    Y=torch.tensor(Y, dtype=torch.long)\n",
        "    return X,Y\n",
        "\n",
        "X,Y = generate_context_word_pairs(corpus, window_size=window_size, vocab_size=vocab_size)"
      ]
    },
    {
      "cell_type": "markdown",
      "metadata": {
        "id": "SS1_Q0zXNRzr"
      },
      "source": [
        "\n",
        "##  Create CBoW Model\n",
        "Now we create CBoW model, we could set the word embedding size to be 100 (or  some other number if you prefer)."
      ]
    },
    {
      "cell_type": "code",
      "execution_count": null,
      "metadata": {
        "id": "U6HHoTmLNRzw"
      },
      "outputs": [],
      "source": [
        "class CBOW(torch.nn.Module):\n",
        "    def __init__(self,vocab_size,embedding_dim):\n",
        "        super(CBOW,self).__init__()\n",
        "\n",
        "        self.embeddings = nn.Embedding(vocab_size,embedding_dim)\n",
        "        self.lin1 = nn.Linear(embedding_dim,vocab_size)\n",
        "\n",
        "\n",
        "    def forward(self, inputs):\n",
        "         embeds = sum(self.embeddings(inputs)).view(1,-1)\n",
        "\n",
        "         out = self.lin1(embeds)\n",
        "         log_probs = F.log_softmax(out,dim=1)\n",
        "         return out\n",
        "\n",
        "\n",
        "EMBEDDING_DIM=100\n",
        "model = CBOW(vocab_size,EMBEDDING_DIM)\n",
        "\n",
        "def make_context_vector(context, word_to_ix):\n",
        "    idxs = [word_to_ix[w] for w in context]\n",
        "    return torch.tensor(idxs, dtype=torch.long)"
      ]
    },
    {
      "cell_type": "markdown",
      "metadata": {
        "id": "VB_im8avNRzw"
      },
      "source": [
        "Remember to move your model to GPU, since now we are training with a larger corpus."
      ]
    },
    {
      "cell_type": "code",
      "execution_count": null,
      "metadata": {
        "id": "M2fgY0c7NRzx",
        "outputId": "94068d57-7f2f-4da5-8446-083f0a45f412",
        "colab": {
          "base_uri": "https://localhost:8080/"
        }
      },
      "outputs": [
        {
          "output_type": "execute_result",
          "data": {
            "text/plain": [
              "CBOW(\n",
              "  (embeddings): Embedding(2379, 100)\n",
              "  (lin1): Linear(in_features=100, out_features=2379, bias=True)\n",
              ")"
            ]
          },
          "metadata": {},
          "execution_count": 23
        }
      ],
      "source": [
        "dev = torch.device(\n",
        "    \"cuda\") if torch.cuda.is_available() else torch.device(\"cpu\")\n",
        "\n",
        "model.to(dev)"
      ]
    },
    {
      "cell_type": "markdown",
      "metadata": {
        "id": "jpIX5RPlNRzx"
      },
      "source": [
        "Then we train the model and print the loss. The loss should decrease with every epoch over the training data. You can play with the epochs numbers here."
      ]
    },
    {
      "cell_type": "code",
      "source": [
        "loss_function = nn.NLLLoss()\n",
        "optimizer = torch.optim.SGD(model.parameters(), lr=0.001)"
      ],
      "metadata": {
        "id": "PJFhbG5owsxE"
      },
      "execution_count": null,
      "outputs": []
    },
    {
      "cell_type": "code",
      "execution_count": null,
      "metadata": {
        "id": "bB-D5gTxNRzx",
        "outputId": "619cfca2-9bc7-4c9f-8be4-4edf39003c49",
        "colab": {
          "base_uri": "https://localhost:8080/"
        }
      },
      "outputs": [
        {
          "output_type": "stream",
          "name": "stdout",
          "text": [
            "Epoch: 0 \tLoss: -402.3329507392281\n",
            "Epoch: 1 \tLoss: -1943.7304966913794\n",
            "Epoch: 2 \tLoss: -6725.635443463817\n",
            "Epoch: 3 \tLoss: -23282.58043514746\n",
            "Epoch: 4 \tLoss: -81825.52846900476\n",
            "Epoch: 5 \tLoss: -289880.6744303043\n",
            "Epoch: 6 \tLoss: -1030321.2959603632\n",
            "Epoch: 7 \tLoss: -3666504.165684619\n",
            "Epoch: 8 \tLoss: -13053134.74623742\n",
            "Epoch: 9 \tLoss: -46477030.629641265\n",
            "Epoch: 10 \tLoss: -165493405.8401384\n",
            "Epoch: 11 \tLoss: -589289039.0798299\n",
            "Epoch: 12 \tLoss: -2098346239.8091092\n",
            "Epoch: 13 \tLoss: -7471813912.6048765\n",
            "Epoch: 14 \tLoss: -26605705159.5309\n",
            "Epoch: 15 \tLoss: -94737813626.2811\n",
            "Epoch: 16 \tLoss: -337343097612.59186\n",
            "Epoch: 17 \tLoss: -1201213442356.8193\n",
            "Epoch: 18 \tLoss: -4277287828322.4097\n",
            "Epoch: 19 \tLoss: -15230594430141.455\n"
          ]
        }
      ],
      "source": [
        "for epoch in range(20):\n",
        "    total_loss = 0\n",
        "    for context,target in zip(X,Y):\n",
        "\n",
        "      model.zero_grad()\n",
        "      log_probs = model(context.to(dev))\n",
        "      loss = loss_function(log_probs,target.to(dev))\n",
        "      loss.backward()\n",
        "      optimizer.step()\n",
        "\n",
        "      total_loss += loss.item()\n",
        "    average_loss = total_loss/len(data)\n",
        "    print('Epoch:',epoch,'\\tLoss:',average_loss)"
      ]
    },
    {
      "cell_type": "markdown",
      "metadata": {
        "id": "cMxXanZTNRzx"
      },
      "source": [
        "# Practical. 3: Analogy Task"
      ]
    },
    {
      "cell_type": "markdown",
      "metadata": {
        "id": "XvJocVE_NRzx"
      },
      "source": [
        "\n",
        "\n",
        "\n",
        "**Reading material**\n",
        "* [1] Mikolov, Tomas, et al. \"[Efficient Estimation of Word Representations in Vector Space](https://arxiv.org/abs/1301.3781)\" Advances in neural information processing systems. 2013.\n"
      ]
    },
    {
      "cell_type": "markdown",
      "metadata": {
        "id": "Uc2tUOmoNRzy"
      },
      "source": [
        "Implement your own function to perform the analogy task (see [1] for concrete examples). Use the same distance metric as in [1]. Your function should be able to answer whether an analogy like: \"a king is to a queen as a man is to a woman\" ($e_{king} - e_{queen} + e_{woman} \\approx e_{man}$) is true.\n",
        "\n",
        "In a perfect scenario, we would like that this analogy ($e_{king} - e_{queen} + e_{woman}$) results in the embedding of the word \"man\". However, it does not always result in exactly the same word embedding. The result of the formula is called the expected or the predicted word embedding. In this context, \"man\" is called the true or the actual word $t$. We want to find the word $p$ in the vocabulary, where the embedding of $p$ (referred to as $e_p$) is the closest to the predicted embedding (i.e. result of the formula). Then, we can check if $p$ is the same word as the true word $t$.  \n",
        "\n",
        "You have to answer an analogy function using each embedding for  CBOW model. Show the true word (with distance similarity value between predicted embedding and true word embedding, i.e. `sim1`) , the predicted word (with distance similarity value between predicted embedding and the embedding of the word in the vocabulary that is closest to this predicted embedding, i.e. `sim2`).\n",
        "\n",
        "Since `Alice in wonder land` is a relatively small dataset to training the model for the analogy task,  we may find it is difficult to get the correct answer by searching the nearest word embedding. Therefore, we extend the predicted word to the nearest `nr` number of words and check if the true word is within them. Do not expect the `nr` to be very small, it could be tens or hundreds."
      ]
    },
    {
      "cell_type": "markdown",
      "metadata": {
        "id": "bUoIuZ0sNRzy"
      },
      "source": [
        "<b>HINT</b>: to visualize the results of the analogy tasks , you can print them in a table. An example is given below.\n",
        "\n",
        "\n",
        "| Analogy task | True word (sim1)  | Predicted nearaest word (sim2) | Correct? |True word within the top `nr` nearest word?|\n",
        "|:------:|:------:|:------:|:------:|:------:|\n",
        "|  queen is to king as woman is to ?\t | man (sim1) | predicted_word(sim2) | True / False |   True / False|"
      ]
    },
    {
      "cell_type": "code",
      "execution_count": null,
      "metadata": {
        "id": "Z6U2nV9mNRzy"
      },
      "outputs": [],
      "source": [
        "analogy=('queen', 'king', 'woman', 'man')"
      ]
    },
    {
      "cell_type": "markdown",
      "metadata": {
        "id": "j62GSBZBNRzy"
      },
      "source": [
        "First let us extract the embeddings of all vocabularies for the following task"
      ]
    },
    {
      "cell_type": "code",
      "execution_count": null,
      "metadata": {
        "id": "uHxG_9ToNRzy"
      },
      "outputs": [],
      "source": [
        "dev = torch.device(\n",
        "    \"cuda\") if torch.cuda.is_available() else torch.device(\"cpu\")"
      ]
    },
    {
      "cell_type": "code",
      "execution_count": null,
      "metadata": {
        "id": "DG88hcebNRzy"
      },
      "outputs": [],
      "source": [
        "embeddings = model.embeddings(torch.Tensor([list(range(0,vocab_size))]).long().to(dev))\n",
        "embeddings = embeddings.view(-1,100)\n",
        "embeddings = embeddings.cpu().detach().numpy()"
      ]
    },
    {
      "cell_type": "markdown",
      "metadata": {
        "id": "LrXuTfGbNRzz"
      },
      "source": [
        "Then we define a 'get_nearest_words' function to retrive the nearest `nr` words to a certain word embedding"
      ]
    },
    {
      "cell_type": "code",
      "execution_count": null,
      "metadata": {
        "id": "ehEuN0CgNRzz"
      },
      "outputs": [],
      "source": [
        "from scipy.spatial.distance import cdist"
      ]
    },
    {
      "cell_type": "code",
      "source": [
        "def get_nearest_words(word_embed, ix_to_word,embeddings, nr=10):\n",
        "\n",
        "    distances= cdist(word_embed[np.newaxis, :],embeddings, \"cosine\")[0]\n",
        "    # Sort distances and store the indices of the `nr` lowest distances\n",
        "    top_sorted_indices = distances.argsort()[:nr]\n",
        "\n",
        "    top_words = [ix_to_word[str(i)]    for i in top_sorted_indices]\n",
        "\n",
        "    values = [distances[i] for i in top_sorted_indices]\n",
        "\n",
        "    return list(zip(top_words, values))"
      ],
      "metadata": {
        "id": "dS-eQexH2PAS"
      },
      "execution_count": null,
      "outputs": []
    },
    {
      "cell_type": "markdown",
      "metadata": {
        "id": "pSms4sJfNRzz"
      },
      "source": [
        "Now let's search for the nearest `one` and `nr` words of the predicted word embedding, and print results of the analogy tasks"
      ]
    },
    {
      "cell_type": "code",
      "execution_count": null,
      "metadata": {
        "id": "I_sP3JuHNRzz"
      },
      "outputs": [],
      "source": [
        "def print_analogy(analogy, embeddings, ix_to_word,word_to_ix, nr=10):\n",
        "    # Retrieve the words from the analogy we need to compute\n",
        "    word_a, word_b, word_c, word_true = analogy\n",
        "\n",
        "    # Formulate the analogy task\n",
        "    analogy_task = f\"{word_a} is to {word_b} as {word_c} is to ?\"\n",
        "\n",
        "    print(f\"Analogy Task: {analogy_task}\")\n",
        "    print(\"---------------------------------------------------\")\n",
        "\n",
        "    # Obtain embeddings for all the words\n",
        "    embed_true =  embeddings[word_to_ix[word_true]]\n",
        "    embed_a=embeddings[word_to_ix[word_a]]\n",
        "    embed_b=embeddings[word_to_ix[word_b]]\n",
        "    embed_c=embeddings[word_to_ix[word_c]]\n",
        "\n",
        "\n",
        "    # Obtain the predicted embedding based on the analogy function\n",
        "    embed_prediction = embed_b - embed_a + embed_c\n",
        "\n",
        "\n",
        "    # The true word with distance similarity value between predicted embedding and true word embedding,\n",
        "    # also denoted `sim1` in the text above\n",
        "    sim1 = cdist(embed_true[np.newaxis, :],embed_prediction[np.newaxis, :],\"cosine\")[0][0]\n",
        "\n",
        "\n",
        "    # The predicted word with distance similarity value between predicted embedding and the embedding of the word\n",
        "    # in the vocabulary that is closest to this predicted embedding\n",
        "    word_prediction, sim2 = get_nearest_words(embed_prediction, ix_to_word,embeddings)[0]\n",
        "\n",
        "    nearest_words = get_nearest_words(embed_prediction, ix_to_word,embeddings,nr)\n",
        "\n",
        "    # Print whether or not the true word was in the top nr\n",
        "    partially_correct = word_true in [word[0] for word in nearest_words]\n",
        "\n",
        "\n",
        "    # Print all top nr words with their distance\n",
        "    for word in nearest_words:\n",
        "        print(f\"{word[0]} => {word[1]:.4f}\")\n",
        "    print(f\"Predicted: {word_prediction} ({sim2 :.4f}) - True: {word_true} ({sim1:.4f})\")\n",
        "    print(f\"Correct? {word_prediction == word_true} - In the top {nr}? {partially_correct}\")\n",
        "    print(\"---------------------------------------------------\")"
      ]
    },
    {
      "cell_type": "code",
      "execution_count": null,
      "metadata": {
        "id": "vXHZMesXNRzz",
        "outputId": "265df49e-cc8b-41db-def5-36636e8fbd16",
        "colab": {
          "base_uri": "https://localhost:8080/"
        }
      },
      "outputs": [
        {
          "output_type": "stream",
          "name": "stdout",
          "text": [
            "Analogy Task: queen is to king as woman is to ?\n",
            "---------------------------------------------------\n",
            "king => 0.0000\n",
            "alice => 0.0000\n",
            "PAD => 0.0000\n",
            "gryphon => 0.0000\n",
            "hatter => 0.0000\n",
            "Predicted: king (0.0000) - True: man (0.0000)\n",
            "Correct? False - In the top 5? False\n",
            "---------------------------------------------------\n"
          ]
        }
      ],
      "source": [
        "print_analogy(analogy, embeddings, ix_to_word,word_to_ix, nr=5)"
      ]
    },
    {
      "cell_type": "code",
      "source": [],
      "metadata": {
        "id": "QTVLNOJ12uu9"
      },
      "execution_count": null,
      "outputs": []
    }
  ],
  "metadata": {
    "colab": {
      "provenance": [],
      "gpuType": "T4",
      "include_colab_link": true
    },
    "kernelspec": {
      "display_name": "Python 3",
      "name": "python3"
    },
    "language_info": {
      "codemirror_mode": {
        "name": "ipython",
        "version": 3
      },
      "file_extension": ".py",
      "mimetype": "text/x-python",
      "name": "python",
      "nbconvert_exporter": "python",
      "pygments_lexer": "ipython3",
      "version": "3.8.8"
    },
    "accelerator": "GPU"
  },
  "nbformat": 4,
  "nbformat_minor": 0
}